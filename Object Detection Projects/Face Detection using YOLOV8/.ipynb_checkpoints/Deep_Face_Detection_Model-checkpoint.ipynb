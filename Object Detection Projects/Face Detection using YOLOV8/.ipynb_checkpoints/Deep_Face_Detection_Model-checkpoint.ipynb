{
 "cells": [
  {
   "cell_type": "markdown",
   "id": "694e1323-0bce-4bb1-ada0-ef86deb2ca8a",
   "metadata": {},
   "source": [
    "## Setup and get data ##"
   ]
  },
  {
   "cell_type": "code",
   "execution_count": 1,
   "id": "f061d7bf-2e88-4471-80d0-53776eaea6af",
   "metadata": {},
   "outputs": [
    {
     "name": "stdout",
     "output_type": "stream",
     "text": [
      "Collecting opencv-python\n",
      "  Using cached opencv_python-4.8.1.78-cp37-abi3-win_amd64.whl.metadata (20 kB)\n",
      "Requirement already satisfied: numpy>=1.21.2 in c:\\users\\gavvi\\appdata\\local\\programs\\python\\python311\\lib\\site-packages (from opencv-python) (1.24.3)\n",
      "Using cached opencv_python-4.8.1.78-cp37-abi3-win_amd64.whl (38.1 MB)\n",
      "Installing collected packages: opencv-python\n",
      "Successfully installed opencv-python-4.8.1.78\n"
     ]
    }
   ],
   "source": [
    "!pip install opencv-python"
   ]
  },
  {
   "cell_type": "code",
   "execution_count": 16,
   "id": "1f3dd33f-2926-47ee-ba21-1f7e12f1f2dc",
   "metadata": {},
   "outputs": [
    {
     "name": "stdout",
     "output_type": "stream",
     "text": [
      "Requirement already satisfied: labelme in c:\\users\\gavvi\\appdata\\local\\programs\\python\\python311\\lib\\site-packages (5.3.1)\n",
      "Requirement already satisfied: albumentations in c:\\users\\gavvi\\appdata\\local\\programs\\python\\python311\\lib\\site-packages (1.3.1)\n",
      "Requirement already satisfied: opencv-python in c:\\users\\gavvi\\appdata\\local\\programs\\python\\python311\\lib\\site-packages (4.8.1.78)\n",
      "Requirement already satisfied: gdown in c:\\users\\gavvi\\appdata\\local\\programs\\python\\python311\\lib\\site-packages (from labelme) (4.7.1)\n",
      "Requirement already satisfied: imgviz>=0.11 in c:\\users\\gavvi\\appdata\\local\\programs\\python\\python311\\lib\\site-packages (from labelme) (1.7.4)\n",
      "Requirement already satisfied: matplotlib in c:\\users\\gavvi\\appdata\\local\\programs\\python\\python311\\lib\\site-packages (from labelme) (3.7.2)\n",
      "Requirement already satisfied: natsort>=7.1.0 in c:\\users\\gavvi\\appdata\\local\\programs\\python\\python311\\lib\\site-packages (from labelme) (8.4.0)\n",
      "Requirement already satisfied: numpy in c:\\users\\gavvi\\appdata\\local\\programs\\python\\python311\\lib\\site-packages (from labelme) (1.24.3)\n",
      "Requirement already satisfied: onnxruntime>=1.14.1 in c:\\users\\gavvi\\appdata\\local\\programs\\python\\python311\\lib\\site-packages (from labelme) (1.16.3)\n",
      "Requirement already satisfied: Pillow>=2.8 in c:\\users\\gavvi\\appdata\\local\\programs\\python\\python311\\lib\\site-packages (from labelme) (10.0.0)\n",
      "Requirement already satisfied: PyYAML in c:\\users\\gavvi\\appdata\\local\\programs\\python\\python311\\lib\\site-packages (from labelme) (6.0.1)\n",
      "Requirement already satisfied: qtpy!=1.11.2 in c:\\users\\gavvi\\appdata\\local\\programs\\python\\python311\\lib\\site-packages (from labelme) (2.4.0)\n",
      "Requirement already satisfied: scikit-image in c:\\users\\gavvi\\appdata\\local\\programs\\python\\python311\\lib\\site-packages (from labelme) (0.22.0)\n",
      "Requirement already satisfied: termcolor in c:\\users\\gavvi\\appdata\\local\\programs\\python\\python311\\lib\\site-packages (from labelme) (2.3.0)\n",
      "Requirement already satisfied: PyQt5!=5.15.3,!=5.15.4 in c:\\users\\gavvi\\appdata\\local\\programs\\python\\python311\\lib\\site-packages (from labelme) (5.15.10)\n",
      "Requirement already satisfied: colorama in c:\\users\\gavvi\\appdata\\local\\programs\\python\\python311\\lib\\site-packages (from labelme) (0.4.6)\n",
      "Requirement already satisfied: scipy>=1.1.0 in c:\\users\\gavvi\\appdata\\local\\programs\\python\\python311\\lib\\site-packages (from albumentations) (1.11.2)\n",
      "Requirement already satisfied: qudida>=0.0.4 in c:\\users\\gavvi\\appdata\\local\\programs\\python\\python311\\lib\\site-packages (from albumentations) (0.0.4)\n",
      "Requirement already satisfied: opencv-python-headless>=4.1.1 in c:\\users\\gavvi\\appdata\\local\\programs\\python\\python311\\lib\\site-packages (from albumentations) (4.8.1.78)\n",
      "Requirement already satisfied: coloredlogs in c:\\users\\gavvi\\appdata\\local\\programs\\python\\python311\\lib\\site-packages (from onnxruntime>=1.14.1->labelme) (15.0.1)\n",
      "Requirement already satisfied: flatbuffers in c:\\users\\gavvi\\appdata\\local\\programs\\python\\python311\\lib\\site-packages (from onnxruntime>=1.14.1->labelme) (23.5.26)\n",
      "Requirement already satisfied: packaging in c:\\users\\gavvi\\appdata\\local\\programs\\python\\python311\\lib\\site-packages (from onnxruntime>=1.14.1->labelme) (23.1)\n",
      "Requirement already satisfied: protobuf in c:\\users\\gavvi\\appdata\\local\\programs\\python\\python311\\lib\\site-packages (from onnxruntime>=1.14.1->labelme) (4.23.4)\n",
      "Requirement already satisfied: sympy in c:\\users\\gavvi\\appdata\\local\\programs\\python\\python311\\lib\\site-packages (from onnxruntime>=1.14.1->labelme) (1.12)\n",
      "Requirement already satisfied: PyQt5-sip<13,>=12.13 in c:\\users\\gavvi\\appdata\\local\\programs\\python\\python311\\lib\\site-packages (from PyQt5!=5.15.3,!=5.15.4->labelme) (12.13.0)\n",
      "Requirement already satisfied: PyQt5-Qt5>=5.15.2 in c:\\users\\gavvi\\appdata\\local\\programs\\python\\python311\\lib\\site-packages (from PyQt5!=5.15.3,!=5.15.4->labelme) (5.15.2)\n",
      "Requirement already satisfied: scikit-learn>=0.19.1 in c:\\users\\gavvi\\appdata\\local\\programs\\python\\python311\\lib\\site-packages (from qudida>=0.0.4->albumentations) (1.3.0)\n",
      "Requirement already satisfied: typing-extensions in c:\\users\\gavvi\\appdata\\local\\programs\\python\\python311\\lib\\site-packages (from qudida>=0.0.4->albumentations) (4.5.0)\n",
      "Requirement already satisfied: networkx>=2.8 in c:\\users\\gavvi\\appdata\\local\\programs\\python\\python311\\lib\\site-packages (from scikit-image->labelme) (3.2)\n",
      "Requirement already satisfied: imageio>=2.27 in c:\\users\\gavvi\\appdata\\local\\programs\\python\\python311\\lib\\site-packages (from scikit-image->labelme) (2.33.0)\n",
      "Requirement already satisfied: tifffile>=2022.8.12 in c:\\users\\gavvi\\appdata\\local\\programs\\python\\python311\\lib\\site-packages (from scikit-image->labelme) (2023.9.26)\n",
      "Requirement already satisfied: lazy_loader>=0.3 in c:\\users\\gavvi\\appdata\\local\\programs\\python\\python311\\lib\\site-packages (from scikit-image->labelme) (0.3)\n",
      "Requirement already satisfied: filelock in c:\\users\\gavvi\\appdata\\local\\programs\\python\\python311\\lib\\site-packages (from gdown->labelme) (3.12.4)\n",
      "Requirement already satisfied: requests[socks] in c:\\users\\gavvi\\appdata\\local\\programs\\python\\python311\\lib\\site-packages (from gdown->labelme) (2.31.0)\n",
      "Requirement already satisfied: six in c:\\users\\gavvi\\appdata\\local\\programs\\python\\python311\\lib\\site-packages (from gdown->labelme) (1.16.0)\n",
      "Requirement already satisfied: tqdm in c:\\users\\gavvi\\appdata\\local\\programs\\python\\python311\\lib\\site-packages (from gdown->labelme) (4.66.1)\n",
      "Requirement already satisfied: beautifulsoup4 in c:\\users\\gavvi\\appdata\\local\\programs\\python\\python311\\lib\\site-packages (from gdown->labelme) (4.12.2)\n",
      "Requirement already satisfied: contourpy>=1.0.1 in c:\\users\\gavvi\\appdata\\local\\programs\\python\\python311\\lib\\site-packages (from matplotlib->labelme) (1.1.0)\n",
      "Requirement already satisfied: cycler>=0.10 in c:\\users\\gavvi\\appdata\\local\\programs\\python\\python311\\lib\\site-packages (from matplotlib->labelme) (0.11.0)\n",
      "Requirement already satisfied: fonttools>=4.22.0 in c:\\users\\gavvi\\appdata\\local\\programs\\python\\python311\\lib\\site-packages (from matplotlib->labelme) (4.42.1)\n",
      "Requirement already satisfied: kiwisolver>=1.0.1 in c:\\users\\gavvi\\appdata\\local\\programs\\python\\python311\\lib\\site-packages (from matplotlib->labelme) (1.4.5)\n",
      "Requirement already satisfied: pyparsing<3.1,>=2.3.1 in c:\\users\\gavvi\\appdata\\local\\programs\\python\\python311\\lib\\site-packages (from matplotlib->labelme) (3.0.9)\n",
      "Requirement already satisfied: python-dateutil>=2.7 in c:\\users\\gavvi\\appdata\\local\\programs\\python\\python311\\lib\\site-packages (from matplotlib->labelme) (2.8.2)\n",
      "Requirement already satisfied: joblib>=1.1.1 in c:\\users\\gavvi\\appdata\\local\\programs\\python\\python311\\lib\\site-packages (from scikit-learn>=0.19.1->qudida>=0.0.4->albumentations) (1.3.2)\n",
      "Requirement already satisfied: threadpoolctl>=2.0.0 in c:\\users\\gavvi\\appdata\\local\\programs\\python\\python311\\lib\\site-packages (from scikit-learn>=0.19.1->qudida>=0.0.4->albumentations) (3.2.0)\n",
      "Requirement already satisfied: soupsieve>1.2 in c:\\users\\gavvi\\appdata\\local\\programs\\python\\python311\\lib\\site-packages (from beautifulsoup4->gdown->labelme) (2.4.1)\n",
      "Requirement already satisfied: humanfriendly>=9.1 in c:\\users\\gavvi\\appdata\\local\\programs\\python\\python311\\lib\\site-packages (from coloredlogs->onnxruntime>=1.14.1->labelme) (10.0)\n",
      "Requirement already satisfied: charset-normalizer<4,>=2 in c:\\users\\gavvi\\appdata\\local\\programs\\python\\python311\\lib\\site-packages (from requests[socks]->gdown->labelme) (3.2.0)\n",
      "Requirement already satisfied: idna<4,>=2.5 in c:\\users\\gavvi\\appdata\\local\\programs\\python\\python311\\lib\\site-packages (from requests[socks]->gdown->labelme) (3.4)\n",
      "Requirement already satisfied: urllib3<3,>=1.21.1 in c:\\users\\gavvi\\appdata\\local\\programs\\python\\python311\\lib\\site-packages (from requests[socks]->gdown->labelme) (2.0.4)\n",
      "Requirement already satisfied: certifi>=2017.4.17 in c:\\users\\gavvi\\appdata\\local\\programs\\python\\python311\\lib\\site-packages (from requests[socks]->gdown->labelme) (2023.7.22)\n",
      "Requirement already satisfied: PySocks!=1.5.7,>=1.5.6 in c:\\users\\gavvi\\appdata\\local\\programs\\python\\python311\\lib\\site-packages (from requests[socks]->gdown->labelme) (1.7.1)\n",
      "Requirement already satisfied: mpmath>=0.19 in c:\\users\\gavvi\\appdata\\local\\programs\\python\\python311\\lib\\site-packages (from sympy->onnxruntime>=1.14.1->labelme) (1.3.0)\n",
      "Requirement already satisfied: pyreadline3 in c:\\users\\gavvi\\appdata\\local\\programs\\python\\python311\\lib\\site-packages (from humanfriendly>=9.1->coloredlogs->onnxruntime>=1.14.1->labelme) (3.4.1)\n"
     ]
    }
   ],
   "source": [
    "!pip install labelme albumentations opencv-python"
   ]
  },
  {
   "cell_type": "code",
   "execution_count": null,
   "id": "2ae18e1e-6f94-447e-8c52-f1c285dc3017",
   "metadata": {},
   "outputs": [],
   "source": [
    "!pip uninstall opencv-python"
   ]
  },
  {
   "cell_type": "code",
   "execution_count": 3,
   "id": "682e4fad-e6d0-4a56-ad75-8e82d76b0a4b",
   "metadata": {},
   "outputs": [],
   "source": [
    "IMAGES_PATH = os.path.join('data', 'images')\n",
    "NUMBER_IMGS = 30"
   ]
  },
  {
   "cell_type": "code",
   "execution_count": 2,
   "id": "ba570fe3-0b95-4e90-90ee-1a75324e7db2",
   "metadata": {},
   "outputs": [],
   "source": [
    "import os, time, uuid, cv2"
   ]
  },
  {
   "cell_type": "code",
   "execution_count": 4,
   "id": "0264ae13-512b-495e-83f2-397e2ff0bc14",
   "metadata": {},
   "outputs": [],
   "source": [
    "def count_images_in_directory(directory_path):\n",
    "    \"\"\"\n",
    "\n",
    "    \"\"\"\n",
    "    \n",
    "    files = os.listdir(directory_path)\n",
    "    image_files = [file for file in files if file.lower().endswith(('.jpg', '.jpeg', '.png'))]\n",
    "    return len(image_files)"
   ]
  },
  {
   "cell_type": "code",
   "execution_count": 12,
   "id": "2d575185-854e-4983-a808-9c781096b5c2",
   "metadata": {},
   "outputs": [
    {
     "name": "stdout",
     "output_type": "stream",
     "text": [
      "Total number of collected images -> 30\n"
     ]
    }
   ],
   "source": [
    "cap = cv2.VideoCapture(0)\n",
    "while cap.isOpened():\n",
    "    _, frame = cap.read()\n",
    "\n",
    "    # Take single image sample by pressing on the 't' key\n",
    "    if cv2.waitKey(1) & 0xFF == ord('t'):\n",
    "        imgname = os.path.join(IMAGES_PATH, '{}.jpg'.format(uuid.uuid1()))\n",
    "        cv2.imwrite(imgname, frame)\n",
    "        \n",
    "    cv2.imshow('Image Collection', frame)\n",
    "    \n",
    "    if cv2.waitKey(1) & count_images_in_directory(IMAGES_PATH) == NUMBER_IMGS:\n",
    "        print(f'Total number of collected images -> {count_images_in_directory(IMAGES_PATH)}')\n",
    "        break\n",
    "    if cv2.waitKey(1) & 0xFF == ord('q'):\n",
    "        break\n",
    "        \n",
    "cap.release()\n",
    "cv2.destroyAllWindows()"
   ]
  },
  {
   "cell_type": "code",
   "execution_count": 11,
   "id": "6a4882d6-3a7f-4a53-992c-2a438b09d683",
   "metadata": {},
   "outputs": [
    {
     "name": "stderr",
     "output_type": "stream",
     "text": [
      "'lableme' is not recognized as an internal or external command,\n",
      "operable program or batch file.\n"
     ]
    }
   ],
   "source": [
    "! lableme"
   ]
  },
  {
   "cell_type": "code",
   "execution_count": null,
   "id": "a44a437d-b716-4f1a-86a2-7a08fe9061cd",
   "metadata": {},
   "outputs": [],
   "source": []
  }
 ],
 "metadata": {
  "kernelspec": {
   "display_name": "Python 3 (ipykernel)",
   "language": "python",
   "name": "python3"
  },
  "language_info": {
   "codemirror_mode": {
    "name": "ipython",
    "version": 3
   },
   "file_extension": ".py",
   "mimetype": "text/x-python",
   "name": "python",
   "nbconvert_exporter": "python",
   "pygments_lexer": "ipython3",
   "version": "3.11.5"
  }
 },
 "nbformat": 4,
 "nbformat_minor": 5
}
