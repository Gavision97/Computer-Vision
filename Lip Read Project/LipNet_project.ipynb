{
 "cells": [
  {
   "cell_type": "markdown",
   "id": "3ead034d-5110-4005-aa26-c301252bac70",
   "metadata": {},
   "source": [
    "# LipNet Project #"
   ]
  },
  {
   "cell_type": "code",
   "execution_count": 2,
   "id": "2db10c12-472b-48ec-8617-29e516f60ec3",
   "metadata": {
    "tags": []
   },
   "outputs": [
    {
     "name": "stdout",
     "output_type": "stream",
     "text": [
      "WARNING:tensorflow:From C:\\Users\\gavvi\\anaconda3\\Lib\\site-packages\\keras\\src\\losses.py:2976: The name tf.losses.sparse_softmax_cross_entropy is deprecated. Please use tf.compat.v1.losses.sparse_softmax_cross_entropy instead.\n",
      "\n"
     ]
    }
   ],
   "source": [
    "import os\n",
    "import cv2\n",
    "import tensorflow as tf\n",
    "import numpy as pd\n",
    "from typing import List\n",
    "from matplotlib import pyplot as plt\n",
    "import imageio"
   ]
  },
  {
   "cell_type": "code",
   "execution_count": 3,
   "id": "b7cb589c-7c21-4465-ab80-6f1cb7f9a1de",
   "metadata": {
    "tags": []
   },
   "outputs": [],
   "source": [
    "def PRINT(text) -> None: print(f\"{80*'-'}\\n{text}\\n{80*'-'}\")"
   ]
  },
  {
   "cell_type": "markdown",
   "id": "ae9208f0-a9ce-4c0e-b049-86391116a829",
   "metadata": {},
   "source": [
    "## Load Data ##"
   ]
  },
  {
   "cell_type": "code",
   "execution_count": 4,
   "id": "6524dc67-a472-49ce-9566-82e06f001db1",
   "metadata": {
    "tags": []
   },
   "outputs": [],
   "source": [
    "import gdown"
   ]
  },
  {
   "cell_type": "code",
   "execution_count": null,
   "id": "8b7c0391-c9e1-4068-a953-7113b2761e4c",
   "metadata": {},
   "outputs": [],
   "source": [
    "url = 'https://drive.google.com/uc?id=1YlvpDLix3S-U8fd-gqRwPcWXAXm8JwjL'\n",
    "output = 'data.zip'\n",
    "\n",
    "gdown.download(url, output, quiet=False)\n",
    "gdown.extractall('data.zip')"
   ]
  },
  {
   "cell_type": "code",
   "execution_count": 69,
   "id": "cd19b861-419f-4927-accb-8e4657199abc",
   "metadata": {
    "tags": []
   },
   "outputs": [],
   "source": [
    "def load_video(path: str) -> tf.Tensor:\n",
    "    \"\"\"\n",
    "    Load a video from the specified path, extract lip regions from each frame,\n",
    "    and return processed frames as a TensorFlow tensor.\n",
    "\n",
    "    Parameters:\n",
    "    - path (str): The path to the video file.\n",
    "\n",
    "    Returns:\n",
    "    - tf.Tensor: Processed frames as a TensorFlow tensor.\n",
    "\n",
    "    Raises:\n",
    "    - ValueError: If there is an error opening the video file.\n",
    "    \"\"\"\n",
    "    \n",
    "    cap = cv2.VideoCapture(path)\n",
    "    frames = []\n",
    "\n",
    "    if not cap.isOpened():\n",
    "        raise ValueError(f\"Error opening video file: {path}\")\n",
    "\n",
    "    try:\n",
    "        while True:\n",
    "            ret, frame = cap.read()\n",
    "            if not ret:\n",
    "                break\n",
    "            \n",
    "            # Convert to grayscale using OpenCV\n",
    "            frame_gray = cv2.cvtColor(frame, cv2.COLOR_BGR2GRAY)\n",
    "            \n",
    "            # Extract and resize the ROI\n",
    "            lips_roi = frame_gray[190:236, 80:220]\n",
    "\n",
    "            frames.append(lips_roi)\n",
    "    finally:\n",
    "        cap.release()\n",
    "\n",
    "    # convert list of NumPy array into TensorFlow tensor\n",
    "    frames = tf.convert_to_tensor(frames, dtype=tf.float32)\n",
    "    \n",
    "    # Apply batch normalization\n",
    "    frames = (frames - tf.reduce_mean(frames)) / tf.math.reduce_std(frames)\n",
    "\n",
    "    return frames\n"
   ]
  },
  {
   "cell_type": "code",
   "execution_count": 23,
   "id": "25f8ff5c-8d3f-429c-a1a6-c0328f9137a4",
   "metadata": {
    "tags": []
   },
   "outputs": [],
   "source": [
    "vocab = [x for x in \"abcdefghijklmnopqrstuvwxyz'?!123456789 \"]"
   ]
  },
  {
   "cell_type": "code",
   "execution_count": 24,
   "id": "f508540c-b748-409b-b487-c625d1aac3a4",
   "metadata": {
    "tags": []
   },
   "outputs": [
    {
     "name": "stdout",
     "output_type": "stream",
     "text": [
      "The vocabulary is: ['', 'a', 'b', 'c', 'd', 'e', 'f', 'g', 'h', 'i', 'j', 'k', 'l', 'm', 'n', 'o', 'p', 'q', 'r', 's', 't', 'u', 'v', 'w', 'x', 'y', 'z', \"'\", '?', '!', '1', '2', '3', '4', '5', '6', '7', '8', '9', ' '] (size =40)\n"
     ]
    }
   ],
   "source": [
    "char_to_num = tf.keras.layers.StringLookup(vocabulary=vocab, oov_token=\"\")\n",
    "num_to_char = tf.keras.layers.StringLookup(\n",
    "    vocabulary=char_to_num.get_vocabulary(), oov_token=\"\", invert=True\n",
    ")\n",
    "\n",
    "print(\n",
    "    f\"The vocabulary is: {char_to_num.get_vocabulary()} \"\n",
    "    f\"(size ={char_to_num.vocabulary_size()})\"\n",
    ")"
   ]
  },
  {
   "cell_type": "code",
   "execution_count": 13,
   "id": "83b9fd06-2d34-45cc-9a7d-8d2e84af6dff",
   "metadata": {
    "tags": []
   },
   "outputs": [],
   "source": [
    "def load_alignments(path: str) -> List[str]:\n",
    "    \"\"\"\n",
    "    Load alignments from the specified file, filter non-silence tokens, \n",
    "    convert to numerical format and return the sequence.\n",
    "\n",
    "    Parameters:\n",
    "    - path (str): The path to the alignments file.\n",
    "\n",
    "    Returns:\n",
    "    - List[str]: Numerical sequence of non-silence tokens.\n",
    "\n",
    "    If an error occurs during loading or processing, an exception is caught and an error message is printed, and the function returns None.\n",
    "    \"\"\"\n",
    "    \n",
    "    try:\n",
    "        with open(path, 'r') as f:\n",
    "            lines = f.readlines()\n",
    "\n",
    "        # Filter and extract non-silence tokens\n",
    "        tokens = [' ' + line.split()[2] for line in lines if line.split()[2] != 'sil']\n",
    "\n",
    "        # Convert to numerical format using char_to_num\n",
    "        numerical_sequence = char_to_num(tf.reshape(tf.strings.unicode_split(tokens, input_encoding='UTF-8'), (-1)))[1:]\n",
    "\n",
    "        return numerical_sequence\n",
    "\n",
    "    except Exception as e:\n",
    "        print(f\"Error loading alignments from {path}: {e}\")\n",
    "        return\n"
   ]
  },
  {
   "cell_type": "code",
   "execution_count": 12,
   "id": "a2ee5a79-c2bc-47c5-ad2f-cfa27a8ff57d",
   "metadata": {
    "tags": []
   },
   "outputs": [],
   "source": [
    "def load_data(path:str):\n",
    "    \n",
    "    path = bytes.decode(path.numpy())\n",
    "    file_name = path.split('\\\\')[-1].split('.')[0]\n",
    "    \n",
    "    video_path = os.path.join('data', 's1', f'{file_name}.mpg')\n",
    "    alignment_path = os.path.join('data', 'alignments', 's1', f'{file_name}.align')\n",
    "    \n",
    "    frames = load_video(video_path)\n",
    "    alignments = load_alignments(alignment_path)\n",
    "    \n",
    "    return frames, alignments\n",
    "    "
   ]
  },
  {
   "cell_type": "code",
   "execution_count": 58,
   "id": "ceaaae0a-30d8-4d62-9780-d9bf477dc1e8",
   "metadata": {
    "tags": []
   },
   "outputs": [
    {
     "data": {
      "text/plain": [
       "'C:\\\\Users\\\\gavvi\\\\Desktop\\\\Programming\\\\GitHub\\\\Computer Vision Projects\\\\Lip Read Project'"
      ]
     },
     "execution_count": 58,
     "metadata": {},
     "output_type": "execute_result"
    }
   ],
   "source": [
    "pwd"
   ]
  },
  {
   "cell_type": "code",
   "execution_count": 59,
   "id": "21b6fabf-c3dc-4f45-89d7-0254c5483733",
   "metadata": {
    "tags": []
   },
   "outputs": [],
   "source": [
    "frames, alignments = load_data(tf.convert_to_tensor(test_path))\n"
   ]
  },
  {
   "cell_type": "code",
   "execution_count": 68,
   "id": "8519b957-0387-46b0-85cf-8834c430e6c2",
   "metadata": {
    "tags": []
   },
   "outputs": [
    {
     "data": {
      "text/plain": [
       "(-0.5, 139.5, 45.5, -0.5)"
      ]
     },
     "execution_count": 68,
     "metadata": {},
     "output_type": "execute_result"
    },
    {
     "data": {
      "image/png": "[encoded data removed]",
      "text/plain": [
       "<Figure size 640x480 with 1 Axes>"
      ]
     },
     "metadata": {},
     "output_type": "display_data"
    }
   ],
   "source": [
    "plt.imshow(frames[41])\n",
    "plt.axis(False)"
   ]
  },
  {
   "cell_type": "code",
   "execution_count": 71,
   "id": "55faa1c7-3238-4a15-8f82-cc264885ec7c",
   "metadata": {
    "tags": []
   },
   "outputs": [
    {
     "data": {
      "text/plain": [
       "<tf.Tensor: shape=(21,), dtype=int64, numpy=\n",
       "array([ 2,  9, 14, 39,  2, 12, 21,  5, 39,  1, 20, 39, 12, 39, 19,  9, 24,\n",
       "       39, 14, 15, 23], dtype=int64)>"
      ]
     },
     "execution_count": 71,
     "metadata": {},
     "output_type": "execute_result"
    }
   ],
   "source": [
    "alignments"
   ]
  },
  {
   "cell_type": "code",
   "execution_count": 72,
   "id": "76d29104-60c2-4ad8-a107-c2814872ad83",
   "metadata": {
    "tags": []
   },
   "outputs": [
    {
     "data": {
      "text/plain": [
       "<tf.Tensor: shape=(), dtype=string, numpy=b'bin blue at l six now'>"
      ]
     },
     "execution_count": 72,
     "metadata": {},
     "output_type": "execute_result"
    }
   ],
   "source": [
    "tf.strings.reduce_join([bytes.decode(x) for x in num_to_char(alignments.numpy()).numpy()])\n"
   ]
  },
  {
   "cell_type": "code",
   "execution_count": 10,
   "id": "da785e7c-e063-4570-9a8f-93ada3cd8f86",
   "metadata": {
    "tags": []
   },
   "outputs": [],
   "source": [
    "def mappable_function(path:str) ->List[str]:\n",
    "    \"\"\"\n",
    "    Description:\n",
    "    This TensorFlow function, mappable_function, utilizes tf.py_function\n",
    "    to create a TensorFlow operation. It calls the load_data function with\n",
    "    the input path and specifies that the result should have data types\n",
    "    tf.float32 and tf.int64. The function returns the result of the\n",
    "    py_function operation.\n",
    "\n",
    "    Parameters:\n",
    "    - path (str): The path used as input for the load_data function.\n",
    "\n",
    "    Returns:\n",
    "    List[str]: The result of the py_function operation, with data types\n",
    "    tf.float32 and tf.int64.\n",
    "    \"\"\"\n",
    "    \n",
    "    result = tf.py_function(load_data, [path], (tf.float32, tf.int64))\n",
    "    return result"
   ]
  },
  {
   "cell_type": "markdown",
   "id": "41151b2a-17e2-499f-9240-5dfe918f0851",
   "metadata": {},
   "source": [
    "## Data Pipeline ##\n",
    "\n",
    "Pipeline for processing a list of video files. Include listing the files, shuffling them, applying a mapping function, creating padded batches, and prefetching data for improved performance during training."
   ]
  },
  {
   "cell_type": "code",
   "execution_count": 14,
   "id": "1e94a61c-7300-4058-b570-5eee3af11011",
   "metadata": {
    "tags": []
   },
   "outputs": [],
   "source": [
    "# Listing Files: Create a TensorFlow dataset with file paths matching the specified pattern.\n",
    "data = tf.data.Dataset.list_files('./data/s1/*.mpg')\n",
    "\n",
    "# Shuffling the Data: Randomize the order of elements in the dataset.\n",
    "data = data.shuffle(buffer_size=500, reshuffle_each_iteration=False)\n",
    "\n",
    "# Mapping a Function: Apply the mappable_function to each element of the dataset.\n",
    "data = data.map(mappable_function)\n",
    "\n",
    "# Padded Batching: Create batches of size 2 and pad elements to the specified shape.\n",
    "data = data.padded_batch(2, padded_shapes=([75,None,None],[40]))\n",
    "\n",
    "# Prefetching Data: Prefetch elements from the input dataset for improved performance.\n",
    "data = data.prefetch(tf.data.AUTOTUNE)\n"
   ]
  },
  {
   "cell_type": "code",
   "execution_count": 15,
   "id": "3612fd38-53f1-4655-9642-5508c18dd32e",
   "metadata": {
    "tags": []
   },
   "outputs": [
    {
     "data": {
      "text/plain": [
       "<_PrefetchDataset element_spec=(TensorSpec(shape=(None, 75, None, None), dtype=tf.float32, name=None), TensorSpec(shape=(None, 40), dtype=tf.int64, name=None))>"
      ]
     },
     "execution_count": 15,
     "metadata": {},
     "output_type": "execute_result"
    }
   ],
   "source": [
    "data"
   ]
  },
  {
   "cell_type": "code",
   "execution_count": 112,
   "id": "8c64d63f-9ac5-45f8-a3ae-06db0ec0fe76",
   "metadata": {
    "tags": []
   },
   "outputs": [],
   "source": [
    "frames, alignments = data.as_numpy_iterator().next()"
   ]
  },
  {
   "cell_type": "code",
   "execution_count": 113,
   "id": "65d22f1f-9014-472d-833e-f9a50ac61197",
   "metadata": {
    "tags": []
   },
   "outputs": [
    {
     "data": {
      "text/plain": [
       "array([[ 2,  9, 14, 39, 23,  8,  9, 20,  5, 39,  2, 25, 39,  1, 39, 19,\n",
       "         5, 22,  5, 14, 39,  1,  7,  1,  9, 14,  0,  0,  0,  0,  0,  0,\n",
       "         0,  0,  0,  0,  0,  0,  0,  0],\n",
       "       [ 2,  9, 14, 39,  7, 18,  5,  5, 14, 39,  1, 20, 39, 14, 39,  6,\n",
       "         9, 22,  5, 39, 19, 15, 15, 14,  0,  0,  0,  0,  0,  0,  0,  0,\n",
       "         0,  0,  0,  0,  0,  0,  0,  0]], dtype=int64)"
      ]
     },
     "execution_count": 113,
     "metadata": {},
     "output_type": "execute_result"
    }
   ],
   "source": [
    "alignments"
   ]
  },
  {
   "cell_type": "code",
   "execution_count": 122,
   "id": "33c71e2a-37e9-4410-9b0c-e6382eacd64e",
   "metadata": {
    "tags": []
   },
   "outputs": [
    {
     "data": {
      "text/plain": [
       "(-0.5, 139.5, 45.5, -0.5)"
      ]
     },
     "execution_count": 122,
     "metadata": {},
     "output_type": "execute_result"
    },
    {
     "data": {
      "image/png": "[encoded data removed]",
      "text/plain": [
       "<Figure size 640x480 with 1 Axes>"
      ]
     },
     "metadata": {},
     "output_type": "display_data"
    }
   ],
   "source": [
    "plt.imshow(frames[1][40])\n",
    "plt.axis(False)"
   ]
  },
  {
   "cell_type": "code",
   "execution_count": 16,
   "id": "1f6fd39b-50af-4d8c-a408-516404a29619",
   "metadata": {
    "tags": []
   },
   "outputs": [],
   "source": [
    "train = data.take(450)\n",
    "test = data.skip(450)"
   ]
  },
  {
   "cell_type": "code",
   "execution_count": 17,
   "id": "8af17d30-6c62-4421-bf5e-f64a1b360833",
   "metadata": {
    "tags": []
   },
   "outputs": [
    {
     "data": {
      "text/plain": [
       "<_PrefetchDataset element_spec=(TensorSpec(shape=(None, 75, None, None), dtype=tf.float32, name=None), TensorSpec(shape=(None, 40), dtype=tf.int64, name=None))>"
      ]
     },
     "execution_count": 17,
     "metadata": {},
     "output_type": "execute_result"
    }
   ],
   "source": [
    "data"
   ]
  },
  {
   "cell_type": "code",
   "execution_count": 123,
   "id": "04c4b59a-5761-4799-90a9-90e80b3292fa",
   "metadata": {
    "tags": []
   },
   "outputs": [],
   "source": [
    "gif_test = data.as_numpy_iterator().next()"
   ]
  },
  {
   "cell_type": "code",
   "execution_count": 125,
   "id": "d20ad549-425c-477c-ae16-b4d3fc893a52",
   "metadata": {
    "tags": []
   },
   "outputs": [
    {
     "name": "stderr",
     "output_type": "stream",
     "text": [
      "Lossy conversion from float32 to uint8. Range [-4.828561305999756, 2.691601276397705]. Convert image to uint8 prior to saving to suppress this warning.\n",
      "Lossy conversion from float32 to uint8. Range [-4.6989030838012695, 2.6051626205444336]. Convert image to uint8 prior to saving to suppress this warning.\n",
      "Lossy conversion from float32 to uint8. Range [-4.655683994293213, 2.6483819484710693]. Convert image to uint8 prior to saving to suppress this warning.\n",
      "Lossy conversion from float32 to uint8. Range [-4.655683994293213, 2.6051626205444336]. Convert image to uint8 prior to saving to suppress this warning.\n",
      "Lossy conversion from float32 to uint8. Range [-4.655683994293213, 2.6483819484710693]. Convert image to uint8 prior to saving to suppress this warning.\n",
      "Lossy conversion from float32 to uint8. Range [-4.612464427947998, 2.6483819484710693]. Convert image to uint8 prior to saving to suppress this warning.\n",
      "Lossy conversion from float32 to uint8. Range [-4.655683994293213, 2.734820604324341]. Convert image to uint8 prior to saving to suppress this warning.\n",
      "Lossy conversion from float32 to uint8. Range [-4.655683994293213, 2.691601276397705]. Convert image to uint8 prior to saving to suppress this warning.\n",
      "Lossy conversion from float32 to uint8. Range [-4.612464427947998, 2.6483819484710693]. Convert image to uint8 prior to saving to suppress this warning.\n",
      "Lossy conversion from float32 to uint8. Range [-4.655683994293213, 2.6051626205444336]. Convert image to uint8 prior to saving to suppress this warning.\n",
      "Lossy conversion from float32 to uint8. Range [-4.612464427947998, 2.6483819484710693]. Convert image to uint8 prior to saving to suppress this warning.\n",
      "Lossy conversion from float32 to uint8. Range [-4.6989030838012695, 2.6483819484710693]. Convert image to uint8 prior to saving to suppress this warning.\n",
      "Lossy conversion from float32 to uint8. Range [-4.569245338439941, 2.734820604324341]. Convert image to uint8 prior to saving to suppress this warning.\n",
      "Lossy conversion from float32 to uint8. Range [-4.655683994293213, 2.691601276397705]. Convert image to uint8 prior to saving to suppress this warning.\n",
      "Lossy conversion from float32 to uint8. Range [-4.612464427947998, 2.691601276397705]. Convert image to uint8 prior to saving to suppress this warning.\n",
      "Lossy conversion from float32 to uint8. Range [-4.569245338439941, 2.691601276397705]. Convert image to uint8 prior to saving to suppress this warning.\n",
      "Lossy conversion from float32 to uint8. Range [-4.569245338439941, 2.734820604324341]. Convert image to uint8 prior to saving to suppress this warning.\n",
      "Lossy conversion from float32 to uint8. Range [-4.526025772094727, 2.734820604324341]. Convert image to uint8 prior to saving to suppress this warning.\n",
      "Lossy conversion from float32 to uint8. Range [-4.526025772094727, 2.691601276397705]. Convert image to uint8 prior to saving to suppress this warning.\n",
      "Lossy conversion from float32 to uint8. Range [-4.655683994293213, 2.734820604324341]. Convert image to uint8 prior to saving to suppress this warning.\n",
      "Lossy conversion from float32 to uint8. Range [-4.612464427947998, 2.864478588104248]. Convert image to uint8 prior to saving to suppress this warning.\n",
      "Lossy conversion from float32 to uint8. Range [-4.569245338439941, 2.7780399322509766]. Convert image to uint8 prior to saving to suppress this warning.\n",
      "Lossy conversion from float32 to uint8. Range [-4.655683994293213, 2.7780399322509766]. Convert image to uint8 prior to saving to suppress this warning.\n",
      "Lossy conversion from float32 to uint8. Range [-4.6989030838012695, 2.7780399322509766]. Convert image to uint8 prior to saving to suppress this warning.\n",
      "Lossy conversion from float32 to uint8. Range [-4.655683994293213, 2.864478588104248]. Convert image to uint8 prior to saving to suppress this warning.\n",
      "Lossy conversion from float32 to uint8. Range [-4.655683994293213, 2.864478588104248]. Convert image to uint8 prior to saving to suppress this warning.\n",
      "Lossy conversion from float32 to uint8. Range [-4.785341739654541, 2.7780399322509766]. Convert image to uint8 prior to saving to suppress this warning.\n",
      "Lossy conversion from float32 to uint8. Range [-4.655683994293213, 2.734820604324341]. Convert image to uint8 prior to saving to suppress this warning.\n",
      "Lossy conversion from float32 to uint8. Range [-4.612464427947998, 2.7780399322509766]. Convert image to uint8 prior to saving to suppress this warning.\n",
      "Lossy conversion from float32 to uint8. Range [-4.6989030838012695, 2.7780399322509766]. Convert image to uint8 prior to saving to suppress this warning.\n",
      "Lossy conversion from float32 to uint8. Range [-4.655683994293213, 2.7780399322509766]. Convert image to uint8 prior to saving to suppress this warning.\n",
      "Lossy conversion from float32 to uint8. Range [-4.569245338439941, 2.7780399322509766]. Convert image to uint8 prior to saving to suppress this warning.\n",
      "Lossy conversion from float32 to uint8. Range [-4.569245338439941, 2.734820604324341]. Convert image to uint8 prior to saving to suppress this warning.\n",
      "Lossy conversion from float32 to uint8. Range [-4.655683994293213, 2.734820604324341]. Convert image to uint8 prior to saving to suppress this warning.\n",
      "Lossy conversion from float32 to uint8. Range [-4.612464427947998, 2.734820604324341]. Convert image to uint8 prior to saving to suppress this warning.\n",
      "Lossy conversion from float32 to uint8. Range [-4.612464427947998, 2.8212592601776123]. Convert image to uint8 prior to saving to suppress this warning.\n",
      "Lossy conversion from float32 to uint8. Range [-4.612464427947998, 2.7780399322509766]. Convert image to uint8 prior to saving to suppress this warning.\n",
      "Lossy conversion from float32 to uint8. Range [-4.569245338439941, 2.864478588104248]. Convert image to uint8 prior to saving to suppress this warning.\n",
      "Lossy conversion from float32 to uint8. Range [-4.742122650146484, 2.907697916030884]. Convert image to uint8 prior to saving to suppress this warning.\n",
      "Lossy conversion from float32 to uint8. Range [-4.569245338439941, 2.9509170055389404]. Convert image to uint8 prior to saving to suppress this warning.\n",
      "Lossy conversion from float32 to uint8. Range [-4.612464427947998, 2.9509170055389404]. Convert image to uint8 prior to saving to suppress this warning.\n",
      "Lossy conversion from float32 to uint8. Range [-4.655683994293213, 2.9509170055389404]. Convert image to uint8 prior to saving to suppress this warning.\n",
      "Lossy conversion from float32 to uint8. Range [-4.6989030838012695, 2.9509170055389404]. Convert image to uint8 prior to saving to suppress this warning.\n",
      "Lossy conversion from float32 to uint8. Range [-4.569245338439941, 2.864478588104248]. Convert image to uint8 prior to saving to suppress this warning.\n",
      "Lossy conversion from float32 to uint8. Range [-4.612464427947998, 2.864478588104248]. Convert image to uint8 prior to saving to suppress this warning.\n",
      "Lossy conversion from float32 to uint8. Range [-4.569245338439941, 2.7780399322509766]. Convert image to uint8 prior to saving to suppress this warning.\n",
      "Lossy conversion from float32 to uint8. Range [-4.569245338439941, 2.7780399322509766]. Convert image to uint8 prior to saving to suppress this warning.\n",
      "Lossy conversion from float32 to uint8. Range [-4.612464427947998, 2.734820604324341]. Convert image to uint8 prior to saving to suppress this warning.\n",
      "Lossy conversion from float32 to uint8. Range [-4.569245338439941, 2.7780399322509766]. Convert image to uint8 prior to saving to suppress this warning.\n",
      "Lossy conversion from float32 to uint8. Range [-4.612464427947998, 2.734820604324341]. Convert image to uint8 prior to saving to suppress this warning.\n",
      "Lossy conversion from float32 to uint8. Range [-4.655683994293213, 2.734820604324341]. Convert image to uint8 prior to saving to suppress this warning.\n",
      "Lossy conversion from float32 to uint8. Range [-4.742122650146484, 2.907697916030884]. Convert image to uint8 prior to saving to suppress this warning.\n",
      "Lossy conversion from float32 to uint8. Range [-4.742122650146484, 2.907697916030884]. Convert image to uint8 prior to saving to suppress this warning.\n",
      "Lossy conversion from float32 to uint8. Range [-4.6989030838012695, 2.734820604324341]. Convert image to uint8 prior to saving to suppress this warning.\n",
      "Lossy conversion from float32 to uint8. Range [-4.6989030838012695, 2.734820604324341]. Convert image to uint8 prior to saving to suppress this warning.\n",
      "Lossy conversion from float32 to uint8. Range [-4.6989030838012695, 2.7780399322509766]. Convert image to uint8 prior to saving to suppress this warning.\n",
      "Lossy conversion from float32 to uint8. Range [-4.742122650146484, 2.7780399322509766]. Convert image to uint8 prior to saving to suppress this warning.\n",
      "Lossy conversion from float32 to uint8. Range [-4.612464427947998, 2.7780399322509766]. Convert image to uint8 prior to saving to suppress this warning.\n",
      "Lossy conversion from float32 to uint8. Range [-4.655683994293213, 2.7780399322509766]. Convert image to uint8 prior to saving to suppress this warning.\n",
      "Lossy conversion from float32 to uint8. Range [-4.655683994293213, 2.691601276397705]. Convert image to uint8 prior to saving to suppress this warning.\n",
      "Lossy conversion from float32 to uint8. Range [-4.526025772094727, 2.907697916030884]. Convert image to uint8 prior to saving to suppress this warning.\n",
      "Lossy conversion from float32 to uint8. Range [-4.569245338439941, 2.907697916030884]. Convert image to uint8 prior to saving to suppress this warning.\n",
      "Lossy conversion from float32 to uint8. Range [-4.612464427947998, 2.691601276397705]. Convert image to uint8 prior to saving to suppress this warning.\n",
      "Lossy conversion from float32 to uint8. Range [-4.6989030838012695, 2.6483819484710693]. Convert image to uint8 prior to saving to suppress this warning.\n",
      "Lossy conversion from float32 to uint8. Range [-4.612464427947998, 2.734820604324341]. Convert image to uint8 prior to saving to suppress this warning.\n",
      "Lossy conversion from float32 to uint8. Range [-4.48280668258667, 2.691601276397705]. Convert image to uint8 prior to saving to suppress this warning.\n",
      "Lossy conversion from float32 to uint8. Range [-4.526025772094727, 2.691601276397705]. Convert image to uint8 prior to saving to suppress this warning.\n",
      "Lossy conversion from float32 to uint8. Range [-4.526025772094727, 2.691601276397705]. Convert image to uint8 prior to saving to suppress this warning.\n",
      "Lossy conversion from float32 to uint8. Range [-4.526025772094727, 2.691601276397705]. Convert image to uint8 prior to saving to suppress this warning.\n",
      "Lossy conversion from float32 to uint8. Range [-4.526025772094727, 2.691601276397705]. Convert image to uint8 prior to saving to suppress this warning.\n",
      "Lossy conversion from float32 to uint8. Range [-4.526025772094727, 2.691601276397705]. Convert image to uint8 prior to saving to suppress this warning.\n",
      "Lossy conversion from float32 to uint8. Range [-4.48280668258667, 2.734820604324341]. Convert image to uint8 prior to saving to suppress this warning.\n",
      "Lossy conversion from float32 to uint8. Range [-4.569245338439941, 2.734820604324341]. Convert image to uint8 prior to saving to suppress this warning.\n",
      "Lossy conversion from float32 to uint8. Range [-4.612464427947998, 2.6483819484710693]. Convert image to uint8 prior to saving to suppress this warning.\n",
      "Lossy conversion from float32 to uint8. Range [-4.569245338439941, 2.864478588104248]. Convert image to uint8 prior to saving to suppress this warning.\n"
     ]
    }
   ],
   "source": [
    "imageio.mimsave('./animation.gif', gif_test[0][1], fps=10)"
   ]
  },
  {
   "cell_type": "code",
   "execution_count": 153,
   "id": "fd10daf1-b0b6-445b-b39c-a6de7ea73e39",
   "metadata": {
    "tags": []
   },
   "outputs": [
    {
     "name": "stdout",
     "output_type": "stream",
     "text": [
      "--------------------------------------------------------------------------------\n",
      "First video annotation from the current batch:\n",
      "\n",
      "b'place white at d three soon'\n",
      "--------------------------------------------------------------------------------\n"
     ]
    },
    {
     "data": {
      "image/png": "[encoded data removed]",
      "text/plain": [
       "<Figure size 640x480 with 1 Axes>"
      ]
     },
     "metadata": {},
     "output_type": "display_data"
    }
   ],
   "source": [
    "plt.imshow(gif_test[0][1][51])\n",
    "plt.axis(False)\n",
    "\n",
    "PRINT(f'First video annotation from the current batch:\\n\\n{tf.strings.reduce_join([num_to_char(word) for word in gif_test[1][0]])}')"
   ]
  },
  {
   "cell_type": "markdown",
   "id": "78c3abdb-b370-449f-aec3-3b703639d8c1",
   "metadata": {},
   "source": [
    "## Design the Deep Nueral Net - LipNet ##"
   ]
  },
  {
   "cell_type": "markdown",
   "id": "a76ba2ba-830c-4019-b49a-5f96177dbaf6",
   "metadata": {},
   "source": [
    "### Import Libraries ###\n",
    "\n",
    "We bring in TensorFlow and Keras to craft our neural network. Sequential guides our layer arrangement, including Conv3D, LSTM, Dense, and more. Adam optimizes, ModelCheckpoint saves, and LearningRateScheduler adjusts—forming a powerful toolkit for our deep learning adventure.\n",
    "\n"
   ]
  },
  {
   "cell_type": "code",
   "execution_count": 18,
   "id": "edc339c6-2fc5-4613-8a5f-c6bf8fbf45a1",
   "metadata": {
    "tags": []
   },
   "outputs": [],
   "source": [
    "from tensorflow.keras.models import Sequential\n",
    "from tensorflow.keras.layers import Conv3D, LSTM, Dense, Dropout, Bidirectional, MaxPool3D, Activation, Reshape, SpatialDropout3D, BatchNormalization, TimeDistributed, Flatten\n",
    "from tensorflow.keras.optimizers import Adam\n",
    "from tensorflow.keras.callbacks import ModelCheckpoint, LearningRateScheduler"
   ]
  },
  {
   "cell_type": "code",
   "execution_count": 25,
   "id": "eaee2baa-af66-4697-ba94-86591999ebc7",
   "metadata": {
    "tags": []
   },
   "outputs": [],
   "source": [
    "class LipNet:\n",
    "    \n",
    "    def __init__(self, input_shape=(75,46,140,1)):\n",
    "        self.__model = self.build_model(input_shape)\n",
    "        \n",
    "    def build_model(self, input_shape_):\n",
    "        \n",
    "        self.__model = Sequential()\n",
    "        \n",
    "        self.__model.add(Conv3D(128, 3, input_shape=input_shape_, padding='same'))\n",
    "        self.__model.add(Activation('relu'))\n",
    "        self.__model.add(MaxPool3D((1,2,2)))\n",
    "        \n",
    "        self.__model.add(Conv3D(75, 3, input_shape=input_shape_, padding='same'))\n",
    "        self.__model.add(Activation('relu'))\n",
    "        self.__model.add(MaxPool3D((1,2,2)))\n",
    "        \n",
    "        self.__model.add(TimeDistributed(Flatten()))\n",
    "        \n",
    "        self.__model.add(Bidirectional(LSTM(128, kernel_initializer='Orthogonal', \n",
    "                                     return_sequences=True)))\n",
    "        self.__model.add(Dropout(0.5))\n",
    "        \n",
    "        self.__model.add(Bidirectional(LSTM(128, kernel_initializer='Orthogonal', \n",
    "                                     return_sequences=True)))\n",
    "        self.__model.add(Dropout(0.5))\n",
    "        \n",
    "        self.__model.add(Dense(char_to_num.vocabulary_size()+1, kernel_initializer='he_normal', activation='softmax'))\n",
    "        \n",
    "        return self.__model\n",
    "    \n",
    "    def compile_model(self):\n",
    "        self.__model.compile(optimizer=Adam(learning_rate=0.0001),\n",
    "                             loss=CTCLoss)\n",
    "    \n",
    "    def get_model(self):\n",
    "        return self.__model\n",
    "    \n",
    "    def summerize_model(self):\n",
    "        self.__model.summary()\n",
    "        \n",
    "    "
   ]
  },
  {
   "cell_type": "code",
   "execution_count": 31,
   "id": "13fb9292-124c-428f-8163-619fd88a02b3",
   "metadata": {
    "tags": []
   },
   "outputs": [
    {
     "name": "stdout",
     "output_type": "stream",
     "text": [
      "Model: \"sequential_3\"\n",
      "_________________________________________________________________\n",
      " Layer (type)                Output Shape              Param #   \n",
      "=================================================================\n",
      " conv3d_6 (Conv3D)           (None, 75, 46, 140, 128   3584      \n",
      "                             )                                   \n",
      "                                                                 \n",
      " activation_6 (Activation)   (None, 75, 46, 140, 128   0         \n",
      "                             )                                   \n",
      "                                                                 \n",
      " max_pooling3d_6 (MaxPoolin  (None, 75, 23, 70, 128)   0         \n",
      " g3D)                                                            \n",
      "                                                                 \n",
      " conv3d_7 (Conv3D)           (None, 75, 23, 70, 75)    259275    \n",
      "                                                                 \n",
      " activation_7 (Activation)   (None, 75, 23, 70, 75)    0         \n",
      "                                                                 \n",
      " max_pooling3d_7 (MaxPoolin  (None, 75, 11, 35, 75)    0         \n",
      " g3D)                                                            \n",
      "                                                                 \n",
      " time_distributed_3 (TimeDi  (None, 75, 28875)         0         \n",
      " stributed)                                                      \n",
      "                                                                 \n",
      " bidirectional_6 (Bidirecti  (None, 75, 256)           29700096  \n",
      " onal)                                                           \n",
      "                                                                 \n",
      " dropout_6 (Dropout)         (None, 75, 256)           0         \n",
      "                                                                 \n",
      " bidirectional_7 (Bidirecti  (None, 75, 256)           394240    \n",
      " onal)                                                           \n",
      "                                                                 \n",
      " dropout_7 (Dropout)         (None, 75, 256)           0         \n",
      "                                                                 \n",
      " dense_1 (Dense)             (None, 75, 41)            10537     \n",
      "                                                                 \n",
      "=================================================================\n",
      "Total params: 30367732 (115.84 MB)\n",
      "Trainable params: 30367732 (115.84 MB)\n",
      "Non-trainable params: 0 (0.00 Byte)\n",
      "_________________________________________________________________\n"
     ]
    }
   ],
   "source": [
    "LipNet_instance = LipNet()\n",
    "LipNet_instance.summerize_model()"
   ]
  },
  {
   "cell_type": "markdown",
   "id": "8facb5b3-7e38-4d02-8916-ffcd816c2291",
   "metadata": {},
   "source": [
    "## Setup Training Options ##"
   ]
  },
  {
   "cell_type": "code",
   "execution_count": 1,
   "id": "c0575137-0c5a-460d-8edf-d0b2925bc9d5",
   "metadata": {},
   "outputs": [],
   "source": [
    "def scheduler(epoch, lr):\n",
    "    if epoch < 30:\n",
    "        return lr\n",
    "    else:\n",
    "        return lr * tf.math.exp(-0.1)"
   ]
  },
  {
   "cell_type": "code",
   "execution_count": 6,
   "id": "c8f1b249-24e6-4fff-9c4b-43b807e581a3",
   "metadata": {
    "tags": []
   },
   "outputs": [],
   "source": [
    "def CTCLoss(y_true, y_pred):\n",
    "    \n",
    "    batch_len = tf.cast(tf.shape(y_true)[0], dtype=\"int64\")\n",
    "    input_length = tf.cast(tf.shape(y_pred)[1], dtype=\"int64\")\n",
    "    label_length = tf.cast(tf.shape(y_true)[1], dtype=\"int64\")\n",
    "\n",
    "    input_length = input_length * tf.ones(shape=(batch_len, 1), dtype=\"int64\")\n",
    "    label_length = label_length * tf.ones(shape=(batch_len, 1), dtype=\"int64\")\n",
    "    \n",
    "    loss = tf.keras.backend.ctc_batch_cost(y_true, y_pred, input_length, label_length)\n",
    "    \n",
    "    return loss"
   ]
  },
  {
   "cell_type": "code",
   "execution_count": 8,
   "id": "a249d526-7b9f-4bdb-b9ab-8d36a42092ad",
   "metadata": {
    "tags": []
   },
   "outputs": [],
   "source": [
    "class ProduceExample(tf.keras.callbacks.Callback):\n",
    "    \n",
    "    def __init__(self, dataset) -> None:\n",
    "        self.dataset = dataset.as_numpy_iterator()\n",
    "        \n",
    "    def on_epoch_end(self, epoch, logs=None) -> None:\n",
    "        data = self.dataset.next()\n",
    "        yhat = self.model.predict(data[0])\n",
    "        \n",
    "        decoded = tf.keras.backend.ctc_decode(yhat, [75,75], greedy=False)[0][0].numpy()\n",
    "        \n",
    "        for x in range(len(yhat)):\n",
    "            print('Original:', tf.strings.reduce_join(num_to_char(data[1][x])).numpy().decode('utf-8'))\n",
    "            print('Prediction:', tf.strings.reduce_join(num_to_char(decoded[x])).numpy().decode('utf-8'))\n",
    "            print('¬'*100)\n"
   ]
  },
  {
   "cell_type": "code",
   "execution_count": 33,
   "id": "237f67ea-4985-465a-a4ac-5d545e1c7eba",
   "metadata": {
    "tags": []
   },
   "outputs": [],
   "source": [
    "LipNet_instance.compile_model()"
   ]
  },
  {
   "cell_type": "code",
   "execution_count": 34,
   "id": "e8664140-1d6c-49a9-aec3-02311890a907",
   "metadata": {
    "tags": []
   },
   "outputs": [],
   "source": [
    "model = LipNet_instance.get_model()"
   ]
  },
  {
   "cell_type": "code",
   "execution_count": 35,
   "id": "c9cfe2ce-143c-43f3-bf19-cfd23179008d",
   "metadata": {
    "tags": []
   },
   "outputs": [
    {
     "data": {
      "text/plain": [
       "<keras.src.engine.sequential.Sequential at 0x188d71be350>"
      ]
     },
     "execution_count": 35,
     "metadata": {},
     "output_type": "execute_result"
    }
   ],
   "source": [
    "model"
   ]
  },
  {
   "cell_type": "markdown",
   "id": "3cfa05bb-14e2-43d0-9f0c-5e5186fc6e66",
   "metadata": {},
   "source": [
    "### Generate Callbacks ###"
   ]
  },
  {
   "cell_type": "code",
   "execution_count": 36,
   "id": "8d8be1ea-6460-445d-aac5-2e91a3e899ff",
   "metadata": {
    "tags": []
   },
   "outputs": [],
   "source": [
    "checkpoint_callback = ModelCheckpoint(os.path.join('models','checkpoint'), monitor='loss', save_weights_only=True)"
   ]
  },
  {
   "cell_type": "code",
   "execution_count": 37,
   "id": "5277e661-0de9-4c18-9f4f-6fa9283f0667",
   "metadata": {
    "tags": []
   },
   "outputs": [],
   "source": [
    "schedule_callback = LearningRateScheduler(scheduler)"
   ]
  },
  {
   "cell_type": "code",
   "execution_count": 39,
   "id": "972c5840-eb00-4f59-9e9f-ae8eee209eca",
   "metadata": {
    "tags": []
   },
   "outputs": [],
   "source": [
    "example_callback = ProduceExample(test)"
   ]
  },
  {
   "cell_type": "code",
   "execution_count": null,
   "id": "76027ed4-a75c-472b-97ff-23737d3d29b1",
   "metadata": {},
   "outputs": [],
   "source": []
  }
 ],
 "metadata": {
  "kernelspec": {
   "display_name": "Python 3 (ipykernel)",
   "language": "python",
   "name": "python3"
  },
  "language_info": {
   "codemirror_mode": {
    "name": "ipython",
    "version": 3
   },
   "file_extension": ".py",
   "mimetype": "text/x-python",
   "name": "python",
   "nbconvert_exporter": "python",
   "pygments_lexer": "ipython3",
   "version": "3.11.5"
  }
 },
 "nbformat": 4,
 "nbformat_minor": 5
}
